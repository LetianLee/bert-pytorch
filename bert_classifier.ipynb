{
 "cells": [
  {
   "cell_type": "markdown",
   "metadata": {},
   "source": [
    "# BERT for Text Classification\n",
    "\n",
    "\n",
    "#### Task Description：\n",
    "Fine-tune BERT on the IMDb dataset to determine whether a movie review is positive or negative.\n",
    "\n",
    "*Example:*  \n",
    "> Movie Review:  \n",
    "> Magnificent and unforgettable, stunningly atmospheric, and brilliantly acted by all. I really cannot understand what sort of people are panning this masterpiece and giving the preponderance of votes as 8 (and nine ones!) This, along with Grapes of Wrath, is John Ford's greatest movie. I would say that Long Voyage Home is next in line, though quite a way back. Rating: 10. It deserves a 12.   \n",
    ">  \n",
    "> Label: 1  \n",
    "> (This movie review is positive.) \n",
    "\n",
    "\n",
    "#### Solution:\n",
    "This program will follow the steps:\n",
    "1. General Preparation  \n",
    "2. Data Processing \n",
    "3. Loading the Model and Optimizer  \n",
    "4. Training \n",
    "5. Testing "
   ]
  },
  {
   "cell_type": "markdown",
   "metadata": {},
   "source": [
    "## 1. General Preparation"
   ]
  },
  {
   "cell_type": "markdown",
   "metadata": {},
   "source": [
    "***Please download the pre-trained BERT model into current file.***   \n",
    "https://drive.google.com/file/d/1kgiwvzfXAzIr_NR2KdY9bSYst69OUFaw/view?usp=sharing"
   ]
  },
  {
   "cell_type": "markdown",
   "metadata": {},
   "source": [
    "Import some common libraries."
   ]
  },
  {
   "cell_type": "code",
   "execution_count": 1,
   "metadata": {},
   "outputs": [],
   "source": [
    "import time\n",
    "from tqdm import tqdm"
   ]
  },
  {
   "cell_type": "markdown",
   "metadata": {},
   "source": [
    "Use GPU Facilities."
   ]
  },
  {
   "cell_type": "code",
   "execution_count": 2,
   "metadata": {},
   "outputs": [],
   "source": [
    "import torch\n",
    "device = torch.device('cuda') if torch.cuda.is_available() else torch.device('cpu')"
   ]
  },
  {
   "cell_type": "markdown",
   "metadata": {},
   "source": [
    "## 2. Data Processing"
   ]
  },
  {
   "cell_type": "markdown",
   "metadata": {},
   "source": [
    "### 2.1 Read data from csv"
   ]
  },
  {
   "cell_type": "code",
   "execution_count": 3,
   "metadata": {},
   "outputs": [],
   "source": [
    "import pandas as pd\n",
    "\n",
    "train_data = pd.read_csv(\"./dataset/text_classification/aclImdb_train.csv\", header=0, names=['Text', 'Label'])\n",
    "test_data = pd.read_csv(\"./dataset/text_classification/aclImdb_test.csv\", header=0, names=['Text', 'Label'])"
   ]
  },
  {
   "cell_type": "markdown",
   "metadata": {},
   "source": [
    "Let's have a look at the training data."
   ]
  },
  {
   "cell_type": "code",
   "execution_count": 4,
   "metadata": {},
   "outputs": [
    {
     "data": {
      "text/html": [
       "<div>\n",
       "<style scoped>\n",
       "    .dataframe tbody tr th:only-of-type {\n",
       "        vertical-align: middle;\n",
       "    }\n",
       "\n",
       "    .dataframe tbody tr th {\n",
       "        vertical-align: top;\n",
       "    }\n",
       "\n",
       "    .dataframe thead th {\n",
       "        text-align: right;\n",
       "    }\n",
       "</style>\n",
       "<table border=\"1\" class=\"dataframe\">\n",
       "  <thead>\n",
       "    <tr style=\"text-align: right;\">\n",
       "      <th></th>\n",
       "      <th>Text</th>\n",
       "      <th>Label</th>\n",
       "    </tr>\n",
       "  </thead>\n",
       "  <tbody>\n",
       "    <tr>\n",
       "      <th>0</th>\n",
       "      <td>Magnificent and unforgettable, stunningly atmo...</td>\n",
       "      <td>1</td>\n",
       "    </tr>\n",
       "    <tr>\n",
       "      <th>1</th>\n",
       "      <td>I got hooked on this as apparently ABC has lic...</td>\n",
       "      <td>1</td>\n",
       "    </tr>\n",
       "    <tr>\n",
       "      <th>2</th>\n",
       "      <td>(SPOILERS IN FIRST PARAGRAPH) This movie's ant...</td>\n",
       "      <td>1</td>\n",
       "    </tr>\n",
       "    <tr>\n",
       "      <th>3</th>\n",
       "      <td>Masayuki Suo, who directed this fine film, is ...</td>\n",
       "      <td>1</td>\n",
       "    </tr>\n",
       "    <tr>\n",
       "      <th>4</th>\n",
       "      <td>It is a well known fact that when Gene Roddenb...</td>\n",
       "      <td>1</td>\n",
       "    </tr>\n",
       "    <tr>\n",
       "      <th>...</th>\n",
       "      <td>...</td>\n",
       "      <td>...</td>\n",
       "    </tr>\n",
       "    <tr>\n",
       "      <th>595</th>\n",
       "      <td>Dear me... Peter Sellers was one of the most o...</td>\n",
       "      <td>0</td>\n",
       "    </tr>\n",
       "    <tr>\n",
       "      <th>596</th>\n",
       "      <td>It is not often I watch a film that is as drea...</td>\n",
       "      <td>0</td>\n",
       "    </tr>\n",
       "    <tr>\n",
       "      <th>597</th>\n",
       "      <td>Quirky, independent, theatrical, Christian Sla...</td>\n",
       "      <td>0</td>\n",
       "    </tr>\n",
       "    <tr>\n",
       "      <th>598</th>\n",
       "      <td>Its plain to see why the makers of Scary Movie...</td>\n",
       "      <td>0</td>\n",
       "    </tr>\n",
       "    <tr>\n",
       "      <th>599</th>\n",
       "      <td>Can fake scenery ruin a picture? You wouldn't ...</td>\n",
       "      <td>0</td>\n",
       "    </tr>\n",
       "  </tbody>\n",
       "</table>\n",
       "<p>600 rows × 2 columns</p>\n",
       "</div>"
      ],
      "text/plain": [
       "                                                  Text  Label\n",
       "0    Magnificent and unforgettable, stunningly atmo...      1\n",
       "1    I got hooked on this as apparently ABC has lic...      1\n",
       "2    (SPOILERS IN FIRST PARAGRAPH) This movie's ant...      1\n",
       "3    Masayuki Suo, who directed this fine film, is ...      1\n",
       "4    It is a well known fact that when Gene Roddenb...      1\n",
       "..                                                 ...    ...\n",
       "595  Dear me... Peter Sellers was one of the most o...      0\n",
       "596  It is not often I watch a film that is as drea...      0\n",
       "597  Quirky, independent, theatrical, Christian Sla...      0\n",
       "598  Its plain to see why the makers of Scary Movie...      0\n",
       "599  Can fake scenery ruin a picture? You wouldn't ...      0\n",
       "\n",
       "[600 rows x 2 columns]"
      ]
     },
     "execution_count": 4,
     "metadata": {},
     "output_type": "execute_result"
    }
   ],
   "source": [
    "train_data"
   ]
  },
  {
   "cell_type": "code",
   "execution_count": 5,
   "metadata": {},
   "outputs": [
    {
     "data": {
      "text/plain": [
       "1    300\n",
       "0    300\n",
       "Name: Label, dtype: int64"
      ]
     },
     "execution_count": 5,
     "metadata": {},
     "output_type": "execute_result"
    }
   ],
   "source": [
    "train_data[\"Label\"].value_counts()"
   ]
  },
  {
   "cell_type": "code",
   "execution_count": 6,
   "metadata": {},
   "outputs": [
    {
     "name": "stdout",
     "output_type": "stream",
     "text": [
      "Text: \n",
      "Magnificent and unforgettable, stunningly atmospheric, and brilliantly acted by all.<br /><br />I really cannot understand what sort of people are panning this masterpiece and giving the preponderance of votes as 8 (and nine ones!)<br /><br />This, along with Grapes of Wrath, is John Ford's greatest movie. I would say that Long Voyage Home is next in line, though quite a way back.<br /><br />Rating: 10. It deserves a 12.\n",
      "\n",
      "Label: 1\n"
     ]
    }
   ],
   "source": [
    "# View the first data.\n",
    "print(u\"Text: \\n%s\\n\" % train_data[\"Text\"][0])\n",
    "print(u\"Label: %s\" % train_data[\"Label\"][0])"
   ]
  },
  {
   "cell_type": "code",
   "execution_count": 7,
   "metadata": {},
   "outputs": [
    {
     "data": {
      "text/plain": [
       "1    300\n",
       "0    300\n",
       "Name: Label, dtype: int64"
      ]
     },
     "execution_count": 7,
     "metadata": {},
     "output_type": "execute_result"
    }
   ],
   "source": [
    "# Choose how much data to train and test.\n",
    "train_data = train_data.sample(frac=1)\n",
    "test_data = test_data.sample(frac=1)\n",
    "train_data[\"Label\"].value_counts()"
   ]
  },
  {
   "cell_type": "markdown",
   "metadata": {},
   "source": [
    "### 2.2 Tokenization"
   ]
  },
  {
   "cell_type": "code",
   "execution_count": 8,
   "metadata": {},
   "outputs": [],
   "source": [
    "from tokenization import BertTokenizer\n",
    "\n",
    "vocab_file = \"vocab.txt\"\n",
    "tokenizer = BertTokenizer(do_lower_case=True, model_max_length=512, vocab_file=vocab_file)\n",
    "\n",
    "# Tokenization\n",
    "train_encodings = tokenizer(list(train_data[\"Text\"]), padding=True)\n",
    "test_encodings = tokenizer(list(test_data[\"Text\"]), padding=True)"
   ]
  },
  {
   "cell_type": "markdown",
   "metadata": {},
   "source": [
    "### 2.3 Turn data into a Dataset object"
   ]
  },
  {
   "cell_type": "markdown",
   "metadata": {},
   "source": [
    "Define a Dataset class."
   ]
  },
  {
   "cell_type": "code",
   "execution_count": 9,
   "metadata": {},
   "outputs": [],
   "source": [
    "class IMDbDataset(torch.utils.data.Dataset):\n",
    "    def __init__(self, encodings, labels):\n",
    "        self.encodings = encodings\n",
    "        self.labels = labels\n",
    "\n",
    "    def __getitem__(self, idx):\n",
    "        item = {key: torch.tensor(val[idx]) for key, val in self.encodings.items()}\n",
    "        item['labels'] = torch.tensor(self.labels[idx])\n",
    "        return item\n",
    "\n",
    "    def __len__(self):\n",
    "        return len(self.labels)\n",
    "\n",
    "train_dataset = IMDbDataset(train_encodings, list(train_data[\"Label\"]))\n",
    "test_dataset = IMDbDataset(test_encodings, list(test_data[\"Label\"]))"
   ]
  },
  {
   "cell_type": "markdown",
   "metadata": {},
   "source": [
    "## 3. Loading the Model and Optimizer "
   ]
  },
  {
   "cell_type": "code",
   "execution_count": 10,
   "metadata": {},
   "outputs": [],
   "source": [
    "from bert_model import BertClassification, BertConfig\n",
    "from torch.optim import AdamW\n",
    "\n",
    "# Loading the model\n",
    "configuration = BertConfig()\n",
    "model = BertClassification(configuration)\n",
    "model.load_state_dict(torch.load(\"pretrained_bert.bin\")) # load pre-trained model\n",
    "model.to(device)\n",
    "\n",
    "# Loading the optimizer\n",
    "optim = AdamW(model.parameters(), lr=1e-5)"
   ]
  },
  {
   "cell_type": "markdown",
   "metadata": {},
   "source": [
    "## 4. Training"
   ]
  },
  {
   "cell_type": "markdown",
   "metadata": {},
   "source": [
    "Prepare some utility functions."
   ]
  },
  {
   "cell_type": "code",
   "execution_count": 11,
   "metadata": {},
   "outputs": [],
   "source": [
    "# Prediction function\n",
    "def predict(outputs):\n",
    "    probabilities = torch.softmax(outputs[\"logits\"], dim=1)\n",
    "    predictions = torch.argmax(probabilities, dim=1)\n",
    "    return predictions"
   ]
  },
  {
   "cell_type": "markdown",
   "metadata": {},
   "source": [
    "Train the model."
   ]
  },
  {
   "cell_type": "code",
   "execution_count": 12,
   "metadata": {
    "scrolled": true
   },
   "outputs": [
    {
     "name": "stdout",
     "output_type": "stream",
     "text": [
      "Epoch 1/3\n"
     ]
    },
    {
     "name": "stderr",
     "output_type": "stream",
     "text": [
      "100%|████████████████████████████████████████████████████| 300/300 [00:59<00:00,  5.08it/s, Loss=0.558, Accuracy=0.670]\n"
     ]
    },
    {
     "name": "stdout",
     "output_type": "stream",
     "text": [
      "Epoch 2/3\n"
     ]
    },
    {
     "name": "stderr",
     "output_type": "stream",
     "text": [
      "100%|████████████████████████████████████████████████████| 300/300 [00:52<00:00,  5.68it/s, Loss=0.086, Accuracy=0.872]\n"
     ]
    },
    {
     "name": "stdout",
     "output_type": "stream",
     "text": [
      "Epoch 3/3\n"
     ]
    },
    {
     "name": "stderr",
     "output_type": "stream",
     "text": [
      "100%|████████████████████████████████████████████████████| 300/300 [00:53<00:00,  5.63it/s, Loss=0.068, Accuracy=0.952]\n"
     ]
    }
   ],
   "source": [
    "# Training\n",
    "\n",
    "from torch.utils.data import DataLoader\n",
    "\n",
    "# Set the number of epoch\n",
    "epoch = 3\n",
    "\n",
    "# Start training\n",
    "model.train()\n",
    "\n",
    "train_loss = list()\n",
    "train_accuracies = list()\n",
    "for epoch_i in range(epoch):\n",
    "    print('Epoch %s/%s' % (epoch_i + 1, epoch))\n",
    "    time.sleep(0.3)\n",
    "\n",
    "    # Get training data by DataLoader\n",
    "    train_loader = DataLoader(train_dataset, batch_size=2, shuffle=True)\n",
    "    \n",
    "    correct = 0\n",
    "    count = 0\n",
    "    epoch_loss = list()\n",
    "    \n",
    "    pbar = tqdm(train_loader)\n",
    "    for batch in pbar:\n",
    "        optim.zero_grad()\n",
    "        input_ids = batch['input_ids'].to(device)\n",
    "        attention_mask = batch['attention_mask'].to(device)\n",
    "        labels = batch['labels'].to(device)\n",
    "        outputs = model(input_ids, attention_mask=attention_mask, labels=labels)\n",
    "        loss = outputs['loss']\n",
    "        loss.backward()\n",
    "        optim.step()\n",
    "        \n",
    "        # make predictions\n",
    "        predictions = predict(outputs)\n",
    "\n",
    "        # count accuracy\n",
    "        correct += predictions.eq(labels).sum().item()\n",
    "        count += len(labels)\n",
    "        accuracy = correct * 1.0 / count\n",
    "\n",
    "        # show progress along with metrics\n",
    "        pbar.set_postfix({\n",
    "            'Loss': '{:.3f}'.format(loss.item()),\n",
    "            'Accuracy': '{:.3f}'.format(accuracy)\n",
    "        })\n",
    "        \n",
    "        # record the loss for each batch\n",
    "        epoch_loss.append(loss.item())\n",
    "        \n",
    "    pbar.close()\n",
    "    \n",
    "    # record the loss and accuracy for each epoch\n",
    "    train_loss += epoch_loss\n",
    "    train_accuracies.append(accuracy)"
   ]
  },
  {
   "cell_type": "markdown",
   "metadata": {},
   "source": [
    "Visualise the training loss and accuracy."
   ]
  },
  {
   "cell_type": "code",
   "execution_count": 13,
   "metadata": {},
   "outputs": [
    {
     "data": {
      "image/png": "[encoded data removed]",
      "text/plain": [
       "<Figure size 432x288 with 1 Axes>"
      ]
     },
     "metadata": {
      "needs_background": "light"
     },
     "output_type": "display_data"
    },
    {
     "data": {
      "image/png": "[encoded data removed]",
      "text/plain": [
       "<Figure size 432x288 with 1 Axes>"
      ]
     },
     "metadata": {
      "needs_background": "light"
     },
     "output_type": "display_data"
    }
   ],
   "source": [
    "import matplotlib.pyplot as plt\n",
    "import numpy as np\n",
    "\n",
    "# Plot Iteration vs Training Loss\n",
    "plt.plot(train_loss, label=\"Training Loss\")\n",
    "plt.xlabel(\"Iteration\")\n",
    "plt.ylabel(\"Loss\")\n",
    "plt.title(\"Iteration vs Training Loss\")  \n",
    "plt.legend()\n",
    "plt.show()\n",
    "\n",
    "# Plot Epoch vs Training Accuracy\n",
    "acc_X = np.arange(len(train_accuracies))+1                          \n",
    "plt.plot(acc_X, train_accuracies,\"-\", label=\"Training Accuracy\")\n",
    "plt.xticks(acc_X)\n",
    "plt.xlabel(\"Epoch\")\n",
    "plt.ylabel(\"Accuracy\")\n",
    "plt.title(\"Epoch vs Training Accuracy\")  \n",
    "plt.legend()\n",
    "plt.show()"
   ]
  },
  {
   "cell_type": "markdown",
   "metadata": {},
   "source": [
    "## 5. Testing"
   ]
  },
  {
   "cell_type": "markdown",
   "metadata": {},
   "source": [
    "Test the model."
   ]
  },
  {
   "cell_type": "code",
   "execution_count": 14,
   "metadata": {},
   "outputs": [
    {
     "name": "stderr",
     "output_type": "stream",
     "text": [
      "100%|████████████████████████████████████████████████████| 600/600 [00:18<00:00, 31.71it/s, loss=2.868, accuracy=0.832]\n"
     ]
    },
    {
     "name": "stdout",
     "output_type": "stream",
     "text": [
      "The final accuracy on the test dataset: 83.1667%\n"
     ]
    }
   ],
   "source": [
    "# Testing\n",
    "from torch.utils.data import DataLoader\n",
    "\n",
    "# Get test data by DataLoader\n",
    "test_loader = DataLoader(test_dataset, batch_size=1, shuffle=False)\n",
    "\n",
    "# Start testing\n",
    "model.eval()\n",
    "\n",
    "with torch.no_grad():\n",
    "    \n",
    "    correct = 0\n",
    "    count = 0\n",
    "    record = {\"labels\":list(), \"predictions\":list()}\n",
    "    \n",
    "    pbar = tqdm(test_loader)\n",
    "    for batch in pbar:\n",
    "        input_ids = batch['input_ids'].to(device)\n",
    "        attention_mask = batch['attention_mask'].to(device)\n",
    "        labels = batch['labels'].to(device)\n",
    "        outputs = model(input_ids, attention_mask=attention_mask, labels=labels)\n",
    "        loss = outputs['loss']\n",
    "        \n",
    "        # make predictions\n",
    "        predictions = predict(outputs)\n",
    "\n",
    "        # count accuracy\n",
    "        correct += predictions.eq(labels).sum().item()\n",
    "        count += len(labels)\n",
    "        accuracy = correct * 1.0 / count\n",
    "\n",
    "        # show progress along with metrics\n",
    "        pbar.set_postfix({\n",
    "            'loss': '{:.3f}'.format(loss.item()),\n",
    "            'accuracy': '{:.3f}'.format(accuracy)\n",
    "        })\n",
    "    \n",
    "        # record the results\n",
    "        record[\"labels\"] += labels.cpu().numpy().tolist()\n",
    "        record[\"predictions\"] += predictions.cpu().numpy().tolist()\n",
    "        \n",
    "    pbar.close()\n",
    "    \n",
    "time.sleep(0.3)\n",
    "print(\"The final accuracy on the test dataset: %s%%\" % round(accuracy*100,4))"
   ]
  },
  {
   "cell_type": "markdown",
   "metadata": {},
   "source": [
    "Check the result."
   ]
  },
  {
   "cell_type": "code",
   "execution_count": 15,
   "metadata": {},
   "outputs": [
    {
     "data": {
      "text/html": [
       "<div>\n",
       "<style scoped>\n",
       "    .dataframe tbody tr th:only-of-type {\n",
       "        vertical-align: middle;\n",
       "    }\n",
       "\n",
       "    .dataframe tbody tr th {\n",
       "        vertical-align: top;\n",
       "    }\n",
       "\n",
       "    .dataframe thead th {\n",
       "        text-align: right;\n",
       "    }\n",
       "</style>\n",
       "<table border=\"1\" class=\"dataframe\">\n",
       "  <thead>\n",
       "    <tr style=\"text-align: right;\">\n",
       "      <th></th>\n",
       "      <th>index</th>\n",
       "      <th>Text</th>\n",
       "      <th>Label</th>\n",
       "      <th>Model Prediction</th>\n",
       "    </tr>\n",
       "  </thead>\n",
       "  <tbody>\n",
       "    <tr>\n",
       "      <th>1</th>\n",
       "      <td>14</td>\n",
       "      <td>On monday, earlier this week, sometime in July...</td>\n",
       "      <td>1</td>\n",
       "      <td>0</td>\n",
       "    </tr>\n",
       "    <tr>\n",
       "      <th>43</th>\n",
       "      <td>353</td>\n",
       "      <td>The only reason I watched this movie a second ...</td>\n",
       "      <td>0</td>\n",
       "      <td>1</td>\n",
       "    </tr>\n",
       "    <tr>\n",
       "      <th>56</th>\n",
       "      <td>434</td>\n",
       "      <td>I enjoyed the beautiful scenery in this movie ...</td>\n",
       "      <td>0</td>\n",
       "      <td>1</td>\n",
       "    </tr>\n",
       "    <tr>\n",
       "      <th>59</th>\n",
       "      <td>247</td>\n",
       "      <td>It occurred to me while watching \"Imaginary He...</td>\n",
       "      <td>1</td>\n",
       "      <td>0</td>\n",
       "    </tr>\n",
       "    <tr>\n",
       "      <th>69</th>\n",
       "      <td>147</td>\n",
       "      <td>Most critics seem to have dismissed this film,...</td>\n",
       "      <td>1</td>\n",
       "      <td>0</td>\n",
       "    </tr>\n",
       "    <tr>\n",
       "      <th>...</th>\n",
       "      <td>...</td>\n",
       "      <td>...</td>\n",
       "      <td>...</td>\n",
       "      <td>...</td>\n",
       "    </tr>\n",
       "    <tr>\n",
       "      <th>561</th>\n",
       "      <td>52</td>\n",
       "      <td>Bears about as much resemblance to Dean Koontz...</td>\n",
       "      <td>1</td>\n",
       "      <td>0</td>\n",
       "    </tr>\n",
       "    <tr>\n",
       "      <th>571</th>\n",
       "      <td>273</td>\n",
       "      <td>This film as it is now is far shorter than it ...</td>\n",
       "      <td>1</td>\n",
       "      <td>0</td>\n",
       "    </tr>\n",
       "    <tr>\n",
       "      <th>575</th>\n",
       "      <td>250</td>\n",
       "      <td>Stupidly beautiful. This movie epitomizes the ...</td>\n",
       "      <td>1</td>\n",
       "      <td>0</td>\n",
       "    </tr>\n",
       "    <tr>\n",
       "      <th>590</th>\n",
       "      <td>536</td>\n",
       "      <td>The amount of hype and the huge success this f...</td>\n",
       "      <td>0</td>\n",
       "      <td>1</td>\n",
       "    </tr>\n",
       "    <tr>\n",
       "      <th>599</th>\n",
       "      <td>162</td>\n",
       "      <td>This year's Royal Rumble wasn't really bad, bu...</td>\n",
       "      <td>1</td>\n",
       "      <td>0</td>\n",
       "    </tr>\n",
       "  </tbody>\n",
       "</table>\n",
       "<p>101 rows × 4 columns</p>\n",
       "</div>"
      ],
      "text/plain": [
       "     index                                               Text  Label  \\\n",
       "1       14  On monday, earlier this week, sometime in July...      1   \n",
       "43     353  The only reason I watched this movie a second ...      0   \n",
       "56     434  I enjoyed the beautiful scenery in this movie ...      0   \n",
       "59     247  It occurred to me while watching \"Imaginary He...      1   \n",
       "69     147  Most critics seem to have dismissed this film,...      1   \n",
       "..     ...                                                ...    ...   \n",
       "561     52  Bears about as much resemblance to Dean Koontz...      1   \n",
       "571    273  This film as it is now is far shorter than it ...      1   \n",
       "575    250  Stupidly beautiful. This movie epitomizes the ...      1   \n",
       "590    536  The amount of hype and the huge success this f...      0   \n",
       "599    162  This year's Royal Rumble wasn't really bad, bu...      1   \n",
       "\n",
       "     Model Prediction  \n",
       "1                   0  \n",
       "43                  1  \n",
       "56                  1  \n",
       "59                  0  \n",
       "69                  0  \n",
       "..                ...  \n",
       "561                 0  \n",
       "571                 0  \n",
       "575                 0  \n",
       "590                 1  \n",
       "599                 0  \n",
       "\n",
       "[101 rows x 4 columns]"
      ]
     },
     "execution_count": 15,
     "metadata": {},
     "output_type": "execute_result"
    }
   ],
   "source": [
    "# Convert test record to a pandas DataFrame object\n",
    "from pandas.core.frame import DataFrame\n",
    "df_record = DataFrame(record)\n",
    "df_record.columns = [\"Ground Truth\",\"Model Prediction\"]\n",
    "\n",
    "# Concat test texts and test records\n",
    "df = pd.concat([test_data.reset_index(), df_record[\"Model Prediction\"]], axis=1)\n",
    "\n",
    "# Show test result\n",
    "# pd.set_option('display.max_rows', None)    # Display all rows\n",
    "# df\n",
    "\n",
    "# Show incorrect predictions \n",
    "df[df[\"Label\"]!=df[\"Model Prediction\"]]"
   ]
  },
  {
   "cell_type": "markdown",
   "metadata": {},
   "source": [
    "Display the Confusion Matrix of the result."
   ]
  },
  {
   "cell_type": "code",
   "execution_count": 16,
   "metadata": {},
   "outputs": [
    {
     "data": {
      "image/png": "[encoded data removed]",
      "text/plain": [
       "<Figure size 432x288 with 2 Axes>"
      ]
     },
     "metadata": {
      "needs_background": "light"
     },
     "output_type": "display_data"
    }
   ],
   "source": [
    "# Display the Confusion Matrix\n",
    "import seaborn as sns\n",
    "crosstab = pd.crosstab(df_record[\"Ground Truth\"],df_record[\"Model Prediction\"])\n",
    "sns.heatmap(crosstab, cmap='Oranges', annot=True, fmt='g', linewidths=5)\n",
    "accuracy = df_record[\"Ground Truth\"].eq(df_record[\"Model Prediction\"]).sum() / len(df_record[\"Ground Truth\"])\n",
    "plt.title(\"Confusion Matrix (Accuracy: %s%%)\" % round(accuracy*100,2))\n",
    "plt.show()"
   ]
  },
  {
   "cell_type": "markdown",
   "metadata": {},
   "source": [
    "F1-score"
   ]
  },
  {
   "cell_type": "code",
   "execution_count": 17,
   "metadata": {},
   "outputs": [
    {
     "name": "stdout",
     "output_type": "stream",
     "text": [
      "Accuracy: 83.17%\n",
      "Precision: 89.64%\n",
      "Recall: 75.0%\n",
      "F1-score: 81.67%\n"
     ]
    }
   ],
   "source": [
    "precision = crosstab[1][1] / (crosstab[1][1] + crosstab[1][0])\n",
    "recall = crosstab[1][1] / (crosstab[1][1] + crosstab[0][1])\n",
    "F1_score = 2 * (precision * recall) / (precision + recall)\n",
    "\n",
    "print(\"Accuracy: %s%%\" % round(accuracy * 100, 2))\n",
    "print(\"Precision: %s%%\" % round(precision * 100, 2))\n",
    "print(\"Recall: %s%%\" % round(recall * 100, 2))\n",
    "print(\"F1-score: %s%%\" % round(F1_score * 100, 2))"
   ]
  },
  {
   "cell_type": "markdown",
   "metadata": {},
   "source": [
    "## Manual Test\n",
    "Now, let's have a manual test on this trained model.\n",
    "First, you need to input a movie review. Then, our trained model will predict whether this review is positive or negative. In this way, we can check the performance of the model.\n",
    "\n",
    "To perform a manual test, please run the following code block."
   ]
  },
  {
   "cell_type": "code",
   "execution_count": 18,
   "metadata": {},
   "outputs": [
    {
     "name": "stdout",
     "output_type": "stream",
     "text": [
      "Let's start our manual test.\n",
      "\n",
      "Please input your test review:\n",
      "I don't like it, beacuse it is a boring movie. It's kind of waste my time\n",
      "\n",
      "The model thinks this review is negative.\n",
      "\n",
      "Try again? y/n\n",
      "y\n",
      "--------------------------------------- 2 ---------------------------------------\n",
      "Please input your test review:\n",
      "I like this movie\n",
      "\n",
      "The model thinks this review is positive.\n",
      "\n",
      "Try again? y/n\n",
      "n\n"
     ]
    }
   ],
   "source": [
    "\"\"\"\n",
    "- Manual Test -\n",
    "\n",
    "Input a movie review. Then, our trained model will predict whether this review is positive or negative.\n",
    "\n",
    "Example：\n",
    "Input: \"I don't like it, beacuse it is a boring movie. It's kind of waste my time\"\n",
    "Expect: 0 (negative)\n",
    "\n",
    "\"\"\"\n",
    "\n",
    "manual_test = True\n",
    "count = 1\n",
    "print(\"Let's start our manual test.\\n\")\n",
    "time.sleep(0.3)\n",
    "while(manual_test):\n",
    "    \n",
    "    review = input(\"Please input your test review:\\n\")\n",
    "\n",
    "    # Tokenization\n",
    "    inputs = tokenizer(review, truncation=True, padding=True, return_tensors=\"pt\").to(device)\n",
    "    \n",
    "    # Model makes its prediction\n",
    "    outputs = model(**inputs)\n",
    "    prediction = predict(outputs)\n",
    "\n",
    "    # Check the performance\n",
    "    print(\"\\nThe model thinks this review is %s.\\n\" % (\"negative\" if int(prediction)==0 else \"positive\"))\n",
    "    \n",
    "    manual_test = input(\"Try again? y/n\\n\")==\"y\"\n",
    "    if manual_test:\n",
    "        count = count + 1\n",
    "        print(\"--------------------------------------- %s ---------------------------------------\" % count)"
   ]
  }
 ],
 "metadata": {
  "kernelspec": {
   "display_name": "Python 3",
   "language": "python",
   "name": "python3"
  },
  "language_info": {
   "codemirror_mode": {
    "name": "ipython",
    "version": 3
   },
   "file_extension": ".py",
   "mimetype": "text/x-python",
   "name": "python",
   "nbconvert_exporter": "python",
   "pygments_lexer": "ipython3",
   "version": "3.7.6"
  }
 },
 "nbformat": 4,
 "nbformat_minor": 5
}

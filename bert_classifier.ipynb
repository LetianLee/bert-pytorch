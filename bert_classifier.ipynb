{
 "cells": [
  {
   "cell_type": "markdown",
   "metadata": {},
   "source": [
    "# BERT for Classifier\n",
    "\n",
    "\n",
    "#### Task Description：\n",
    "Fine-tune BERT on the IMDb dataset to determine whether a movie review is positive or negative.\n",
    "\n",
    "*Example:*  \n",
    "> Movie Review:  \n",
    "> Magnificent and unforgettable, stunningly atmospheric, and brilliantly acted by all. I really cannot understand what sort of people are panning this masterpiece and giving the preponderance of votes as 8 (and nine ones!) This, along with Grapes of Wrath, is John Ford's greatest movie. I would say that Long Voyage Home is next in line, though quite a way back. Rating: 10. It deserves a 12.   \n",
    ">  \n",
    "> Label: 1  \n",
    "> (This movie review is positive.) \n",
    "\n",
    "\n",
    "#### Solution:\n",
    "This program will follow the steps:\n",
    "1. General Preparation  \n",
    "2. Data Processing \n",
    "3. Loading the Model and Optimizer  \n",
    "4. Training \n",
    "5. Testing "
   ]
  },
  {
   "cell_type": "markdown",
   "metadata": {},
   "source": [
    "## 1. General Preparation"
   ]
  },
  {
   "cell_type": "markdown",
   "metadata": {},
   "source": [
    "Please download the pre-trained BERT model into current file.   \n",
    "https://drive.google.com/file/d/1kgiwvzfXAzIr_NR2KdY9bSYst69OUFaw/view?usp=sharing"
   ]
  },
  {
   "cell_type": "markdown",
   "metadata": {},
   "source": [
    "Import some common libraries."
   ]
  },
  {
   "cell_type": "code",
   "execution_count": 2,
   "metadata": {},
   "outputs": [],
   "source": [
    "import time\n",
    "from tqdm import tqdm"
   ]
  },
  {
   "cell_type": "markdown",
   "metadata": {},
   "source": [
    "Use GPU Facilities."
   ]
  },
  {
   "cell_type": "code",
   "execution_count": 3,
   "metadata": {},
   "outputs": [],
   "source": [
    "import torch\n",
    "device = torch.device('cuda') if torch.cuda.is_available() else torch.device('cpu')"
   ]
  },
  {
   "cell_type": "markdown",
   "metadata": {},
   "source": [
    "## 2. Data Processing"
   ]
  },
  {
   "cell_type": "markdown",
   "metadata": {},
   "source": [
    "### 2.1 Read data from csv"
   ]
  },
  {
   "cell_type": "code",
   "execution_count": 4,
   "metadata": {},
   "outputs": [],
   "source": [
    "import pandas as pd\n",
    "\n",
    "train_data = pd.read_csv(\"aclImdb_train.csv\", header=0, names=['Text', 'Label'])\n",
    "test_data = pd.read_csv(\"aclImdb_test.csv\", header=0, names=['Text', 'Label'])"
   ]
  },
  {
   "cell_type": "markdown",
   "metadata": {},
   "source": [
    "Let's have a look at the training data."
   ]
  },
  {
   "cell_type": "code",
   "execution_count": 5,
   "metadata": {},
   "outputs": [
    {
     "data": {
      "text/html": [
       "<div>\n",
       "<style scoped>\n",
       "    .dataframe tbody tr th:only-of-type {\n",
       "        vertical-align: middle;\n",
       "    }\n",
       "\n",
       "    .dataframe tbody tr th {\n",
       "        vertical-align: top;\n",
       "    }\n",
       "\n",
       "    .dataframe thead th {\n",
       "        text-align: right;\n",
       "    }\n",
       "</style>\n",
       "<table border=\"1\" class=\"dataframe\">\n",
       "  <thead>\n",
       "    <tr style=\"text-align: right;\">\n",
       "      <th></th>\n",
       "      <th>Text</th>\n",
       "      <th>Label</th>\n",
       "    </tr>\n",
       "  </thead>\n",
       "  <tbody>\n",
       "    <tr>\n",
       "      <th>0</th>\n",
       "      <td>Magnificent and unforgettable, stunningly atmo...</td>\n",
       "      <td>1</td>\n",
       "    </tr>\n",
       "    <tr>\n",
       "      <th>1</th>\n",
       "      <td>I got hooked on this as apparently ABC has lic...</td>\n",
       "      <td>1</td>\n",
       "    </tr>\n",
       "    <tr>\n",
       "      <th>2</th>\n",
       "      <td>(SPOILERS IN FIRST PARAGRAPH) This movie's ant...</td>\n",
       "      <td>1</td>\n",
       "    </tr>\n",
       "    <tr>\n",
       "      <th>3</th>\n",
       "      <td>Masayuki Suo, who directed this fine film, is ...</td>\n",
       "      <td>1</td>\n",
       "    </tr>\n",
       "    <tr>\n",
       "      <th>4</th>\n",
       "      <td>It is a well known fact that when Gene Roddenb...</td>\n",
       "      <td>1</td>\n",
       "    </tr>\n",
       "    <tr>\n",
       "      <th>...</th>\n",
       "      <td>...</td>\n",
       "      <td>...</td>\n",
       "    </tr>\n",
       "    <tr>\n",
       "      <th>24995</th>\n",
       "      <td>As a big fan of David Mamet's films and plays,...</td>\n",
       "      <td>0</td>\n",
       "    </tr>\n",
       "    <tr>\n",
       "      <th>24996</th>\n",
       "      <td>There seems to be an overwhelming response to ...</td>\n",
       "      <td>0</td>\n",
       "    </tr>\n",
       "    <tr>\n",
       "      <th>24997</th>\n",
       "      <td>For the first couple of seasons, I thought The...</td>\n",
       "      <td>0</td>\n",
       "    </tr>\n",
       "    <tr>\n",
       "      <th>24998</th>\n",
       "      <td>WE FAW DOWN &lt;br /&gt;&lt;br /&gt;Aspect ratio: 1.33:1&lt;b...</td>\n",
       "      <td>0</td>\n",
       "    </tr>\n",
       "    <tr>\n",
       "      <th>24999</th>\n",
       "      <td>Although there's Flying Guillotines as part of...</td>\n",
       "      <td>0</td>\n",
       "    </tr>\n",
       "  </tbody>\n",
       "</table>\n",
       "<p>25000 rows × 2 columns</p>\n",
       "</div>"
      ],
      "text/plain": [
       "                                                    Text  Label\n",
       "0      Magnificent and unforgettable, stunningly atmo...      1\n",
       "1      I got hooked on this as apparently ABC has lic...      1\n",
       "2      (SPOILERS IN FIRST PARAGRAPH) This movie's ant...      1\n",
       "3      Masayuki Suo, who directed this fine film, is ...      1\n",
       "4      It is a well known fact that when Gene Roddenb...      1\n",
       "...                                                  ...    ...\n",
       "24995  As a big fan of David Mamet's films and plays,...      0\n",
       "24996  There seems to be an overwhelming response to ...      0\n",
       "24997  For the first couple of seasons, I thought The...      0\n",
       "24998  WE FAW DOWN <br /><br />Aspect ratio: 1.33:1<b...      0\n",
       "24999  Although there's Flying Guillotines as part of...      0\n",
       "\n",
       "[25000 rows x 2 columns]"
      ]
     },
     "execution_count": 5,
     "metadata": {},
     "output_type": "execute_result"
    }
   ],
   "source": [
    "train_data"
   ]
  },
  {
   "cell_type": "code",
   "execution_count": 6,
   "metadata": {},
   "outputs": [
    {
     "data": {
      "text/plain": [
       "1    12500\n",
       "0    12500\n",
       "Name: Label, dtype: int64"
      ]
     },
     "execution_count": 6,
     "metadata": {},
     "output_type": "execute_result"
    }
   ],
   "source": [
    "train_data[\"Label\"].value_counts()"
   ]
  },
  {
   "cell_type": "code",
   "execution_count": 7,
   "metadata": {},
   "outputs": [
    {
     "name": "stdout",
     "output_type": "stream",
     "text": [
      "Text: \n",
      "Magnificent and unforgettable, stunningly atmospheric, and brilliantly acted by all.<br /><br />I really cannot understand what sort of people are panning this masterpiece and giving the preponderance of votes as 8 (and nine ones!)<br /><br />This, along with Grapes of Wrath, is John Ford's greatest movie. I would say that Long Voyage Home is next in line, though quite a way back.<br /><br />Rating: 10. It deserves a 12.\n",
      "\n",
      "Label: 1\n"
     ]
    }
   ],
   "source": [
    "# View the first data.\n",
    "print(u\"Text: \\n%s\\n\" % train_data[\"Text\"][0])\n",
    "print(u\"Label: %s\" % train_data[\"Label\"][0])"
   ]
  },
  {
   "cell_type": "code",
   "execution_count": 8,
   "metadata": {},
   "outputs": [
    {
     "data": {
      "text/plain": [
       "0    129\n",
       "1    121\n",
       "Name: Label, dtype: int64"
      ]
     },
     "execution_count": 8,
     "metadata": {},
     "output_type": "execute_result"
    }
   ],
   "source": [
    "# Choose how much data to train and test.\n",
    "train_data = train_data.sample(frac=0.01)\n",
    "test_data = test_data.sample(frac=0.01)\n",
    "train_data[\"Label\"].value_counts()"
   ]
  },
  {
   "cell_type": "markdown",
   "metadata": {},
   "source": [
    "### 2.2 Tokenization"
   ]
  },
  {
   "cell_type": "code",
   "execution_count": 9,
   "metadata": {},
   "outputs": [],
   "source": [
    "from tokenization import BertTokenizer\n",
    "\n",
    "vocab_file = \"vocab.txt\"\n",
    "tokenizer = BertTokenizer(do_lower_case=True, model_max_length=512, vocab_file=vocab_file)\n",
    "\n",
    "# Tokenization\n",
    "train_encodings = tokenizer(list(train_data[\"Text\"]), padding=True)\n",
    "test_encodings = tokenizer(list(test_data[\"Text\"]), padding=True)"
   ]
  },
  {
   "cell_type": "markdown",
   "metadata": {},
   "source": [
    "### 2.3 Turn data into a Dataset object"
   ]
  },
  {
   "cell_type": "markdown",
   "metadata": {},
   "source": [
    "Define a Dataset class."
   ]
  },
  {
   "cell_type": "code",
   "execution_count": 10,
   "metadata": {},
   "outputs": [],
   "source": [
    "class IMDbDataset(torch.utils.data.Dataset):\n",
    "    def __init__(self, encodings, labels):\n",
    "        self.encodings = encodings\n",
    "        self.labels = labels\n",
    "\n",
    "    def __getitem__(self, idx):\n",
    "        item = {key: torch.tensor(val[idx]) for key, val in self.encodings.items()}\n",
    "        item['labels'] = torch.tensor(self.labels[idx])\n",
    "        return item\n",
    "\n",
    "    def __len__(self):\n",
    "        return len(self.labels)\n",
    "\n",
    "train_dataset = IMDbDataset(train_encodings, list(train_data[\"Label\"]))\n",
    "test_dataset = IMDbDataset(test_encodings, list(test_data[\"Label\"]))"
   ]
  },
  {
   "cell_type": "markdown",
   "metadata": {},
   "source": [
    "## 3. Loading the Model and Optimizer "
   ]
  },
  {
   "cell_type": "code",
   "execution_count": 11,
   "metadata": {},
   "outputs": [],
   "source": [
    "from bert_model import BertClassification, BertConfig\n",
    "from torch.optim import AdamW\n",
    "\n",
    "# Loading the model\n",
    "configuration = BertConfig()\n",
    "model = BertClassification(configuration)\n",
    "model.load_state_dict(torch.load(\"pretrained_bert.bin\")) # load pre-trained model\n",
    "model.to(device)\n",
    "\n",
    "# Loading the optimizer\n",
    "optim = AdamW(model.parameters(), lr=1e-5)"
   ]
  },
  {
   "cell_type": "markdown",
   "metadata": {},
   "source": [
    "## 4. Training"
   ]
  },
  {
   "cell_type": "markdown",
   "metadata": {},
   "source": [
    "Prepare some utility functions."
   ]
  },
  {
   "cell_type": "code",
   "execution_count": 12,
   "metadata": {},
   "outputs": [],
   "source": [
    "# Prediction function\n",
    "def predict(outputs):\n",
    "    probabilities = torch.softmax(outputs[\"logits\"], dim=1)\n",
    "    predictions = torch.argmax(probabilities, dim=1)\n",
    "    return predictions"
   ]
  },
  {
   "cell_type": "markdown",
   "metadata": {},
   "source": [
    "Train the model."
   ]
  },
  {
   "cell_type": "code",
   "execution_count": 13,
   "metadata": {
    "scrolled": true
   },
   "outputs": [
    {
     "name": "stdout",
     "output_type": "stream",
     "text": [
      "Epoch 1/3\n"
     ]
    },
    {
     "name": "stderr",
     "output_type": "stream",
     "text": [
      "100%|████████████████████████████████████████████████████| 125/125 [00:25<00:00,  4.99it/s, Loss=0.551, Accuracy=0.552]\n"
     ]
    },
    {
     "name": "stdout",
     "output_type": "stream",
     "text": [
      "Epoch 2/3\n"
     ]
    },
    {
     "name": "stderr",
     "output_type": "stream",
     "text": [
      "100%|████████████████████████████████████████████████████| 125/125 [00:24<00:00,  5.16it/s, Loss=0.714, Accuracy=0.828]\n"
     ]
    },
    {
     "name": "stdout",
     "output_type": "stream",
     "text": [
      "Epoch 3/3\n"
     ]
    },
    {
     "name": "stderr",
     "output_type": "stream",
     "text": [
      "100%|████████████████████████████████████████████████████| 125/125 [00:24<00:00,  5.13it/s, Loss=0.061, Accuracy=0.952]\n"
     ]
    }
   ],
   "source": [
    "# Training\n",
    "\n",
    "from torch.utils.data import DataLoader\n",
    "\n",
    "# Set the number of epoch\n",
    "epoch = 3\n",
    "\n",
    "# Start training\n",
    "model.train()\n",
    "\n",
    "train_loss = list()\n",
    "train_accuracies = list()\n",
    "for epoch_i in range(epoch):\n",
    "    print('Epoch %s/%s' % (epoch_i + 1, epoch))\n",
    "    time.sleep(0.3)\n",
    "\n",
    "    # Get training data by DataLoader\n",
    "    train_loader = DataLoader(train_dataset, batch_size=2, shuffle=True)\n",
    "    \n",
    "    correct = 0\n",
    "    count = 0\n",
    "    epoch_loss = list()\n",
    "    \n",
    "    pbar = tqdm(train_loader)\n",
    "    for batch in pbar:\n",
    "        optim.zero_grad()\n",
    "        input_ids = batch['input_ids'].to(device)\n",
    "        attention_mask = batch['attention_mask'].to(device)\n",
    "        labels = batch['labels'].to(device)\n",
    "        outputs = model(input_ids, attention_mask=attention_mask, labels=labels)\n",
    "        loss = outputs['loss']\n",
    "        loss.backward()\n",
    "        optim.step()\n",
    "        \n",
    "        # make predictions\n",
    "        predictions = predict(outputs)\n",
    "\n",
    "        # count accuracy\n",
    "        correct += predictions.eq(labels).sum().item()\n",
    "        count += len(labels)\n",
    "        accuracy = correct * 1.0 / count\n",
    "\n",
    "        # show progress along with metrics\n",
    "        pbar.set_postfix({\n",
    "            'Loss': '{:.3f}'.format(loss.item()),\n",
    "            'Accuracy': '{:.3f}'.format(accuracy)\n",
    "        })\n",
    "        \n",
    "        # record the loss for each batch\n",
    "        epoch_loss.append(loss.item())\n",
    "        \n",
    "    pbar.close()\n",
    "    \n",
    "    # record the loss and accuracy for each epoch\n",
    "    train_loss += epoch_loss\n",
    "    train_accuracies.append(accuracy)"
   ]
  },
  {
   "cell_type": "markdown",
   "metadata": {},
   "source": [
    "Visualise the training loss and accuracy."
   ]
  },
  {
   "cell_type": "code",
   "execution_count": 14,
   "metadata": {},
   "outputs": [
    {
     "data": {
      "image/png": "[encoded data removed]",
      "text/plain": [
       "<Figure size 432x288 with 1 Axes>"
      ]
     },
     "metadata": {
      "needs_background": "light"
     },
     "output_type": "display_data"
    },
    {
     "data": {
      "image/png": "[encoded data removed]",
      "text/plain": [
       "<Figure size 432x288 with 1 Axes>"
      ]
     },
     "metadata": {
      "needs_background": "light"
     },
     "output_type": "display_data"
    }
   ],
   "source": [
    "import matplotlib.pyplot as plt\n",
    "import numpy as np\n",
    "\n",
    "# Plot Iteration vs Training Loss\n",
    "plt.plot(train_loss, label=\"Training Loss\")\n",
    "plt.xlabel(\"Iteration\")\n",
    "plt.ylabel(\"Loss\")\n",
    "plt.title(\"Iteration vs Training Loss\")  \n",
    "plt.legend()\n",
    "plt.show()\n",
    "\n",
    "# Plot Epoch vs Training Accuracy\n",
    "acc_X = np.arange(len(train_accuracies))+1                          \n",
    "plt.plot(acc_X, train_accuracies,\"-\", label=\"Training Accuracy\")\n",
    "plt.xticks(acc_X)\n",
    "plt.xlabel(\"Epoch\")\n",
    "plt.ylabel(\"Accuracy\")\n",
    "plt.title(\"Epoch vs Training Accuracy\")  \n",
    "plt.legend()\n",
    "plt.show()"
   ]
  },
  {
   "cell_type": "markdown",
   "metadata": {},
   "source": [
    "## 5. Testing"
   ]
  },
  {
   "cell_type": "markdown",
   "metadata": {},
   "source": [
    "Test the model."
   ]
  },
  {
   "cell_type": "code",
   "execution_count": 15,
   "metadata": {},
   "outputs": [
    {
     "name": "stderr",
     "output_type": "stream",
     "text": [
      "100%|████████████████████████████████████████████████████| 250/250 [00:07<00:00, 31.36it/s, loss=0.115, accuracy=0.780]\n"
     ]
    },
    {
     "name": "stdout",
     "output_type": "stream",
     "text": [
      "The final accuracy on the test dataset: 78.0%\n"
     ]
    }
   ],
   "source": [
    "# Testing\n",
    "from torch.utils.data import DataLoader\n",
    "\n",
    "# Get test data by DataLoader\n",
    "test_loader = DataLoader(test_dataset, batch_size=1, shuffle=False)\n",
    "\n",
    "# Start testing\n",
    "model.eval()\n",
    "\n",
    "with torch.no_grad():\n",
    "    \n",
    "    correct = 0\n",
    "    count = 0\n",
    "    record = {\"labels\":list(), \"predictions\":list()}\n",
    "    \n",
    "    pbar = tqdm(test_loader)\n",
    "    for batch in pbar:\n",
    "        input_ids = batch['input_ids'].to(device)\n",
    "        attention_mask = batch['attention_mask'].to(device)\n",
    "        labels = batch['labels'].to(device)\n",
    "        outputs = model(input_ids, attention_mask=attention_mask, labels=labels)\n",
    "        loss = outputs['loss']\n",
    "        \n",
    "        # make predictions\n",
    "        predictions = predict(outputs)\n",
    "\n",
    "        # count accuracy\n",
    "        correct += predictions.eq(labels).sum().item()\n",
    "        count += len(labels)\n",
    "        accuracy = correct * 1.0 / count\n",
    "\n",
    "        # show progress along with metrics\n",
    "        pbar.set_postfix({\n",
    "            'loss': '{:.3f}'.format(loss.item()),\n",
    "            'accuracy': '{:.3f}'.format(accuracy)\n",
    "        })\n",
    "    \n",
    "        # record the results\n",
    "        record[\"labels\"] += labels.cpu().numpy().tolist()\n",
    "        record[\"predictions\"] += predictions.cpu().numpy().tolist()\n",
    "        \n",
    "    pbar.close()\n",
    "    \n",
    "time.sleep(0.3)\n",
    "print(\"The final accuracy on the test dataset: %s%%\" % round(accuracy*100,4))"
   ]
  },
  {
   "cell_type": "markdown",
   "metadata": {},
   "source": [
    "Check the result."
   ]
  },
  {
   "cell_type": "code",
   "execution_count": 16,
   "metadata": {},
   "outputs": [
    {
     "data": {
      "text/html": [
       "<div>\n",
       "<style scoped>\n",
       "    .dataframe tbody tr th:only-of-type {\n",
       "        vertical-align: middle;\n",
       "    }\n",
       "\n",
       "    .dataframe tbody tr th {\n",
       "        vertical-align: top;\n",
       "    }\n",
       "\n",
       "    .dataframe thead th {\n",
       "        text-align: right;\n",
       "    }\n",
       "</style>\n",
       "<table border=\"1\" class=\"dataframe\">\n",
       "  <thead>\n",
       "    <tr style=\"text-align: right;\">\n",
       "      <th></th>\n",
       "      <th>index</th>\n",
       "      <th>Text</th>\n",
       "      <th>Label</th>\n",
       "      <th>Model Prediction</th>\n",
       "    </tr>\n",
       "  </thead>\n",
       "  <tbody>\n",
       "    <tr>\n",
       "      <th>2</th>\n",
       "      <td>7419</td>\n",
       "      <td>When I read the synopsis - 3 people lost in th...</td>\n",
       "      <td>1</td>\n",
       "      <td>0</td>\n",
       "    </tr>\n",
       "    <tr>\n",
       "      <th>7</th>\n",
       "      <td>15221</td>\n",
       "      <td>I was pulled into this movie early on, much to...</td>\n",
       "      <td>0</td>\n",
       "      <td>1</td>\n",
       "    </tr>\n",
       "    <tr>\n",
       "      <th>9</th>\n",
       "      <td>9298</td>\n",
       "      <td>If it had been made 2 years later it would hav...</td>\n",
       "      <td>1</td>\n",
       "      <td>0</td>\n",
       "    </tr>\n",
       "    <tr>\n",
       "      <th>10</th>\n",
       "      <td>23341</td>\n",
       "      <td>First of all, let me start by saying that I ha...</td>\n",
       "      <td>0</td>\n",
       "      <td>1</td>\n",
       "    </tr>\n",
       "    <tr>\n",
       "      <th>13</th>\n",
       "      <td>4704</td>\n",
       "      <td>One day a red alley cat is fed up of being kic...</td>\n",
       "      <td>1</td>\n",
       "      <td>0</td>\n",
       "    </tr>\n",
       "    <tr>\n",
       "      <th>15</th>\n",
       "      <td>5395</td>\n",
       "      <td>I remember being so excited on Saturday nights...</td>\n",
       "      <td>1</td>\n",
       "      <td>0</td>\n",
       "    </tr>\n",
       "    <tr>\n",
       "      <th>16</th>\n",
       "      <td>20417</td>\n",
       "      <td>Friday Night With Jonathan Ross must have thos...</td>\n",
       "      <td>0</td>\n",
       "      <td>1</td>\n",
       "    </tr>\n",
       "    <tr>\n",
       "      <th>17</th>\n",
       "      <td>21855</td>\n",
       "      <td>I remember when \"The Love Machine\" was first r...</td>\n",
       "      <td>0</td>\n",
       "      <td>1</td>\n",
       "    </tr>\n",
       "    <tr>\n",
       "      <th>25</th>\n",
       "      <td>23332</td>\n",
       "      <td>I really liked this movie. Number 5, the star ...</td>\n",
       "      <td>0</td>\n",
       "      <td>1</td>\n",
       "    </tr>\n",
       "    <tr>\n",
       "      <th>29</th>\n",
       "      <td>20673</td>\n",
       "      <td>This Spanish-Italian co-production tells an in...</td>\n",
       "      <td>0</td>\n",
       "      <td>1</td>\n",
       "    </tr>\n",
       "    <tr>\n",
       "      <th>31</th>\n",
       "      <td>5575</td>\n",
       "      <td>This movie is like Happiness meets Lost in Tra...</td>\n",
       "      <td>1</td>\n",
       "      <td>0</td>\n",
       "    </tr>\n",
       "    <tr>\n",
       "      <th>33</th>\n",
       "      <td>4025</td>\n",
       "      <td>Hmm, is it right to compare Tiffani Thiessen a...</td>\n",
       "      <td>1</td>\n",
       "      <td>0</td>\n",
       "    </tr>\n",
       "    <tr>\n",
       "      <th>45</th>\n",
       "      <td>9716</td>\n",
       "      <td>The Falcon and the Snowman is based on a true ...</td>\n",
       "      <td>1</td>\n",
       "      <td>0</td>\n",
       "    </tr>\n",
       "    <tr>\n",
       "      <th>48</th>\n",
       "      <td>19631</td>\n",
       "      <td>I consider myself a fan of Jess Franco and his...</td>\n",
       "      <td>0</td>\n",
       "      <td>1</td>\n",
       "    </tr>\n",
       "    <tr>\n",
       "      <th>57</th>\n",
       "      <td>19663</td>\n",
       "      <td>Imagine this: a high school. Except it's board...</td>\n",
       "      <td>0</td>\n",
       "      <td>1</td>\n",
       "    </tr>\n",
       "    <tr>\n",
       "      <th>68</th>\n",
       "      <td>16447</td>\n",
       "      <td>Maybe it's just that it was made in 1997, or m...</td>\n",
       "      <td>0</td>\n",
       "      <td>1</td>\n",
       "    </tr>\n",
       "    <tr>\n",
       "      <th>72</th>\n",
       "      <td>6267</td>\n",
       "      <td>This film is one of those that can't be regard...</td>\n",
       "      <td>1</td>\n",
       "      <td>0</td>\n",
       "    </tr>\n",
       "    <tr>\n",
       "      <th>79</th>\n",
       "      <td>1660</td>\n",
       "      <td>Or if you've seen the \"Evil Dead\" trilogy and/...</td>\n",
       "      <td>1</td>\n",
       "      <td>0</td>\n",
       "    </tr>\n",
       "    <tr>\n",
       "      <th>93</th>\n",
       "      <td>23013</td>\n",
       "      <td>A brilliant professor and his sidekick journey...</td>\n",
       "      <td>0</td>\n",
       "      <td>1</td>\n",
       "    </tr>\n",
       "    <tr>\n",
       "      <th>97</th>\n",
       "      <td>2578</td>\n",
       "      <td>As a reviewer has already commented, this made...</td>\n",
       "      <td>1</td>\n",
       "      <td>0</td>\n",
       "    </tr>\n",
       "    <tr>\n",
       "      <th>101</th>\n",
       "      <td>9015</td>\n",
       "      <td>\"Don't Change Your Husband\" is another soap op...</td>\n",
       "      <td>1</td>\n",
       "      <td>0</td>\n",
       "    </tr>\n",
       "    <tr>\n",
       "      <th>103</th>\n",
       "      <td>3747</td>\n",
       "      <td>I saw this when it first came out, and found i...</td>\n",
       "      <td>1</td>\n",
       "      <td>0</td>\n",
       "    </tr>\n",
       "    <tr>\n",
       "      <th>110</th>\n",
       "      <td>4882</td>\n",
       "      <td>The Man With a Golden Arm was one of a trio of...</td>\n",
       "      <td>1</td>\n",
       "      <td>0</td>\n",
       "    </tr>\n",
       "    <tr>\n",
       "      <th>113</th>\n",
       "      <td>20621</td>\n",
       "      <td>OK, here is the deal. I love action movies and...</td>\n",
       "      <td>0</td>\n",
       "      <td>1</td>\n",
       "    </tr>\n",
       "    <tr>\n",
       "      <th>117</th>\n",
       "      <td>8238</td>\n",
       "      <td>I don't know what some people were thinking wh...</td>\n",
       "      <td>1</td>\n",
       "      <td>0</td>\n",
       "    </tr>\n",
       "    <tr>\n",
       "      <th>126</th>\n",
       "      <td>20308</td>\n",
       "      <td>A VERY un-Tom and Jerry short. Jerry narrates ...</td>\n",
       "      <td>0</td>\n",
       "      <td>1</td>\n",
       "    </tr>\n",
       "    <tr>\n",
       "      <th>128</th>\n",
       "      <td>16883</td>\n",
       "      <td>I have to say that there is one redeeming spec...</td>\n",
       "      <td>0</td>\n",
       "      <td>1</td>\n",
       "    </tr>\n",
       "    <tr>\n",
       "      <th>129</th>\n",
       "      <td>21602</td>\n",
       "      <td>Not too good a movie. Sure, it contains action...</td>\n",
       "      <td>0</td>\n",
       "      <td>1</td>\n",
       "    </tr>\n",
       "    <tr>\n",
       "      <th>130</th>\n",
       "      <td>14192</td>\n",
       "      <td>This was so bad I can't even review it. So I'l...</td>\n",
       "      <td>0</td>\n",
       "      <td>1</td>\n",
       "    </tr>\n",
       "    <tr>\n",
       "      <th>134</th>\n",
       "      <td>20052</td>\n",
       "      <td>Mild spoilers below.&lt;br /&gt;&lt;br /&gt;The prospect o...</td>\n",
       "      <td>0</td>\n",
       "      <td>1</td>\n",
       "    </tr>\n",
       "    <tr>\n",
       "      <th>139</th>\n",
       "      <td>10293</td>\n",
       "      <td>We've all see the countless previews and trail...</td>\n",
       "      <td>1</td>\n",
       "      <td>0</td>\n",
       "    </tr>\n",
       "    <tr>\n",
       "      <th>140</th>\n",
       "      <td>1555</td>\n",
       "      <td>This little short absolutely fascinates me.&lt;br...</td>\n",
       "      <td>1</td>\n",
       "      <td>0</td>\n",
       "    </tr>\n",
       "    <tr>\n",
       "      <th>143</th>\n",
       "      <td>10194</td>\n",
       "      <td>Utopia, made in 1950 in France, was the last f...</td>\n",
       "      <td>1</td>\n",
       "      <td>0</td>\n",
       "    </tr>\n",
       "    <tr>\n",
       "      <th>145</th>\n",
       "      <td>8975</td>\n",
       "      <td>I seriously don´t know why this movie got such...</td>\n",
       "      <td>1</td>\n",
       "      <td>0</td>\n",
       "    </tr>\n",
       "    <tr>\n",
       "      <th>150</th>\n",
       "      <td>21082</td>\n",
       "      <td>The acting is excellent in this film, with som...</td>\n",
       "      <td>0</td>\n",
       "      <td>1</td>\n",
       "    </tr>\n",
       "    <tr>\n",
       "      <th>152</th>\n",
       "      <td>14046</td>\n",
       "      <td>This is a film that has garnered any interest ...</td>\n",
       "      <td>0</td>\n",
       "      <td>1</td>\n",
       "    </tr>\n",
       "    <tr>\n",
       "      <th>155</th>\n",
       "      <td>24697</td>\n",
       "      <td>Mickey Rourke ( who was once a famous movie st...</td>\n",
       "      <td>0</td>\n",
       "      <td>1</td>\n",
       "    </tr>\n",
       "    <tr>\n",
       "      <th>157</th>\n",
       "      <td>4545</td>\n",
       "      <td>It is now clear that the true golden age of Am...</td>\n",
       "      <td>1</td>\n",
       "      <td>0</td>\n",
       "    </tr>\n",
       "    <tr>\n",
       "      <th>161</th>\n",
       "      <td>18481</td>\n",
       "      <td>I would like to comment on how the girls are c...</td>\n",
       "      <td>0</td>\n",
       "      <td>1</td>\n",
       "    </tr>\n",
       "    <tr>\n",
       "      <th>163</th>\n",
       "      <td>9476</td>\n",
       "      <td>Chris Morris' Brass Eye TV series had always g...</td>\n",
       "      <td>1</td>\n",
       "      <td>0</td>\n",
       "    </tr>\n",
       "    <tr>\n",
       "      <th>176</th>\n",
       "      <td>15692</td>\n",
       "      <td>This has to be one of, if not THE greatest Mob...</td>\n",
       "      <td>0</td>\n",
       "      <td>1</td>\n",
       "    </tr>\n",
       "    <tr>\n",
       "      <th>177</th>\n",
       "      <td>817</td>\n",
       "      <td>The Tempest has been interpreted in many diffe...</td>\n",
       "      <td>1</td>\n",
       "      <td>0</td>\n",
       "    </tr>\n",
       "    <tr>\n",
       "      <th>186</th>\n",
       "      <td>2236</td>\n",
       "      <td>In a bizarre experiment, an astronaut is aband...</td>\n",
       "      <td>1</td>\n",
       "      <td>0</td>\n",
       "    </tr>\n",
       "    <tr>\n",
       "      <th>192</th>\n",
       "      <td>3213</td>\n",
       "      <td>For those who loved \"Wayne's World\"...\"The Blu...</td>\n",
       "      <td>1</td>\n",
       "      <td>0</td>\n",
       "    </tr>\n",
       "    <tr>\n",
       "      <th>194</th>\n",
       "      <td>20679</td>\n",
       "      <td>This was Hitchcock's third Hollywood feature, ...</td>\n",
       "      <td>0</td>\n",
       "      <td>1</td>\n",
       "    </tr>\n",
       "    <tr>\n",
       "      <th>196</th>\n",
       "      <td>2951</td>\n",
       "      <td>Dolemite is awesome. Rudy Ray Moore's rhymin k...</td>\n",
       "      <td>1</td>\n",
       "      <td>0</td>\n",
       "    </tr>\n",
       "    <tr>\n",
       "      <th>198</th>\n",
       "      <td>21469</td>\n",
       "      <td>Eight teen convicts are brought to the abandon...</td>\n",
       "      <td>0</td>\n",
       "      <td>1</td>\n",
       "    </tr>\n",
       "    <tr>\n",
       "      <th>217</th>\n",
       "      <td>20491</td>\n",
       "      <td>You know the story of \"Sweeney Todd\" now, most...</td>\n",
       "      <td>0</td>\n",
       "      <td>1</td>\n",
       "    </tr>\n",
       "    <tr>\n",
       "      <th>220</th>\n",
       "      <td>23686</td>\n",
       "      <td>The first time I saw a commercial for this sho...</td>\n",
       "      <td>0</td>\n",
       "      <td>1</td>\n",
       "    </tr>\n",
       "    <tr>\n",
       "      <th>221</th>\n",
       "      <td>17472</td>\n",
       "      <td>In London, the Venetian Carla Borin (Yuliya Ma...</td>\n",
       "      <td>0</td>\n",
       "      <td>1</td>\n",
       "    </tr>\n",
       "    <tr>\n",
       "      <th>223</th>\n",
       "      <td>20776</td>\n",
       "      <td>Normally I wouldn't go to the trouble of comme...</td>\n",
       "      <td>0</td>\n",
       "      <td>1</td>\n",
       "    </tr>\n",
       "    <tr>\n",
       "      <th>228</th>\n",
       "      <td>20706</td>\n",
       "      <td>Well there's a few things about this movie. Ev...</td>\n",
       "      <td>0</td>\n",
       "      <td>1</td>\n",
       "    </tr>\n",
       "    <tr>\n",
       "      <th>231</th>\n",
       "      <td>15779</td>\n",
       "      <td>This is supposed to be based on Wilkie Collins...</td>\n",
       "      <td>0</td>\n",
       "      <td>1</td>\n",
       "    </tr>\n",
       "    <tr>\n",
       "      <th>234</th>\n",
       "      <td>24582</td>\n",
       "      <td>Hello it is I Derrick Cannon and I welcome you...</td>\n",
       "      <td>0</td>\n",
       "      <td>1</td>\n",
       "    </tr>\n",
       "    <tr>\n",
       "      <th>246</th>\n",
       "      <td>4007</td>\n",
       "      <td>I love those kind of movies. Blood, Revenge, A...</td>\n",
       "      <td>1</td>\n",
       "      <td>0</td>\n",
       "    </tr>\n",
       "  </tbody>\n",
       "</table>\n",
       "</div>"
      ],
      "text/plain": [
       "     index                                               Text  Label  \\\n",
       "2     7419  When I read the synopsis - 3 people lost in th...      1   \n",
       "7    15221  I was pulled into this movie early on, much to...      0   \n",
       "9     9298  If it had been made 2 years later it would hav...      1   \n",
       "10   23341  First of all, let me start by saying that I ha...      0   \n",
       "13    4704  One day a red alley cat is fed up of being kic...      1   \n",
       "15    5395  I remember being so excited on Saturday nights...      1   \n",
       "16   20417  Friday Night With Jonathan Ross must have thos...      0   \n",
       "17   21855  I remember when \"The Love Machine\" was first r...      0   \n",
       "25   23332  I really liked this movie. Number 5, the star ...      0   \n",
       "29   20673  This Spanish-Italian co-production tells an in...      0   \n",
       "31    5575  This movie is like Happiness meets Lost in Tra...      1   \n",
       "33    4025  Hmm, is it right to compare Tiffani Thiessen a...      1   \n",
       "45    9716  The Falcon and the Snowman is based on a true ...      1   \n",
       "48   19631  I consider myself a fan of Jess Franco and his...      0   \n",
       "57   19663  Imagine this: a high school. Except it's board...      0   \n",
       "68   16447  Maybe it's just that it was made in 1997, or m...      0   \n",
       "72    6267  This film is one of those that can't be regard...      1   \n",
       "79    1660  Or if you've seen the \"Evil Dead\" trilogy and/...      1   \n",
       "93   23013  A brilliant professor and his sidekick journey...      0   \n",
       "97    2578  As a reviewer has already commented, this made...      1   \n",
       "101   9015  \"Don't Change Your Husband\" is another soap op...      1   \n",
       "103   3747  I saw this when it first came out, and found i...      1   \n",
       "110   4882  The Man With a Golden Arm was one of a trio of...      1   \n",
       "113  20621  OK, here is the deal. I love action movies and...      0   \n",
       "117   8238  I don't know what some people were thinking wh...      1   \n",
       "126  20308  A VERY un-Tom and Jerry short. Jerry narrates ...      0   \n",
       "128  16883  I have to say that there is one redeeming spec...      0   \n",
       "129  21602  Not too good a movie. Sure, it contains action...      0   \n",
       "130  14192  This was so bad I can't even review it. So I'l...      0   \n",
       "134  20052  Mild spoilers below.<br /><br />The prospect o...      0   \n",
       "139  10293  We've all see the countless previews and trail...      1   \n",
       "140   1555  This little short absolutely fascinates me.<br...      1   \n",
       "143  10194  Utopia, made in 1950 in France, was the last f...      1   \n",
       "145   8975  I seriously don´t know why this movie got such...      1   \n",
       "150  21082  The acting is excellent in this film, with som...      0   \n",
       "152  14046  This is a film that has garnered any interest ...      0   \n",
       "155  24697  Mickey Rourke ( who was once a famous movie st...      0   \n",
       "157   4545  It is now clear that the true golden age of Am...      1   \n",
       "161  18481  I would like to comment on how the girls are c...      0   \n",
       "163   9476  Chris Morris' Brass Eye TV series had always g...      1   \n",
       "176  15692  This has to be one of, if not THE greatest Mob...      0   \n",
       "177    817  The Tempest has been interpreted in many diffe...      1   \n",
       "186   2236  In a bizarre experiment, an astronaut is aband...      1   \n",
       "192   3213  For those who loved \"Wayne's World\"...\"The Blu...      1   \n",
       "194  20679  This was Hitchcock's third Hollywood feature, ...      0   \n",
       "196   2951  Dolemite is awesome. Rudy Ray Moore's rhymin k...      1   \n",
       "198  21469  Eight teen convicts are brought to the abandon...      0   \n",
       "217  20491  You know the story of \"Sweeney Todd\" now, most...      0   \n",
       "220  23686  The first time I saw a commercial for this sho...      0   \n",
       "221  17472  In London, the Venetian Carla Borin (Yuliya Ma...      0   \n",
       "223  20776  Normally I wouldn't go to the trouble of comme...      0   \n",
       "228  20706  Well there's a few things about this movie. Ev...      0   \n",
       "231  15779  This is supposed to be based on Wilkie Collins...      0   \n",
       "234  24582  Hello it is I Derrick Cannon and I welcome you...      0   \n",
       "246   4007  I love those kind of movies. Blood, Revenge, A...      1   \n",
       "\n",
       "     Model Prediction  \n",
       "2                   0  \n",
       "7                   1  \n",
       "9                   0  \n",
       "10                  1  \n",
       "13                  0  \n",
       "15                  0  \n",
       "16                  1  \n",
       "17                  1  \n",
       "25                  1  \n",
       "29                  1  \n",
       "31                  0  \n",
       "33                  0  \n",
       "45                  0  \n",
       "48                  1  \n",
       "57                  1  \n",
       "68                  1  \n",
       "72                  0  \n",
       "79                  0  \n",
       "93                  1  \n",
       "97                  0  \n",
       "101                 0  \n",
       "103                 0  \n",
       "110                 0  \n",
       "113                 1  \n",
       "117                 0  \n",
       "126                 1  \n",
       "128                 1  \n",
       "129                 1  \n",
       "130                 1  \n",
       "134                 1  \n",
       "139                 0  \n",
       "140                 0  \n",
       "143                 0  \n",
       "145                 0  \n",
       "150                 1  \n",
       "152                 1  \n",
       "155                 1  \n",
       "157                 0  \n",
       "161                 1  \n",
       "163                 0  \n",
       "176                 1  \n",
       "177                 0  \n",
       "186                 0  \n",
       "192                 0  \n",
       "194                 1  \n",
       "196                 0  \n",
       "198                 1  \n",
       "217                 1  \n",
       "220                 1  \n",
       "221                 1  \n",
       "223                 1  \n",
       "228                 1  \n",
       "231                 1  \n",
       "234                 1  \n",
       "246                 0  "
      ]
     },
     "execution_count": 16,
     "metadata": {},
     "output_type": "execute_result"
    }
   ],
   "source": [
    "# Convert test record to a pandas DataFrame object\n",
    "from pandas.core.frame import DataFrame\n",
    "df_record = DataFrame(record)\n",
    "df_record.columns = [\"Ground Truth\",\"Model Prediction\"]\n",
    "\n",
    "# Concat test texts and test records\n",
    "df = pd.concat([test_data.reset_index(), df_record[\"Model Prediction\"]], axis=1)\n",
    "\n",
    "# Show test result\n",
    "# pd.set_option('display.max_rows', None)    # Display all rows\n",
    "# df\n",
    "\n",
    "# Show incorrect predictions \n",
    "df[df[\"Label\"]!=df[\"Model Prediction\"]]"
   ]
  },
  {
   "cell_type": "markdown",
   "metadata": {},
   "source": [
    "Display the Confusion Matrix of the result."
   ]
  },
  {
   "cell_type": "code",
   "execution_count": 17,
   "metadata": {},
   "outputs": [
    {
     "data": {
      "image/png": "[encoded data removed]",
      "text/plain": [
       "<Figure size 432x288 with 2 Axes>"
      ]
     },
     "metadata": {
      "needs_background": "light"
     },
     "output_type": "display_data"
    }
   ],
   "source": [
    "# Display the Confusion Matrix\n",
    "import seaborn as sns\n",
    "crosstab = pd.crosstab(df_record[\"Ground Truth\"],df_record[\"Model Prediction\"])\n",
    "sns.heatmap(crosstab, cmap='Oranges', annot=True, fmt='g', linewidths=5)\n",
    "accuracy = df_record[\"Ground Truth\"].eq(df_record[\"Model Prediction\"]).sum() / len(df_record[\"Ground Truth\"])\n",
    "plt.title(\"Confusion Matrix (Accuracy: %s%%)\" % round(accuracy*100,2))\n",
    "plt.show()"
   ]
  },
  {
   "cell_type": "markdown",
   "metadata": {},
   "source": [
    "F1-score"
   ]
  },
  {
   "cell_type": "code",
   "execution_count": 18,
   "metadata": {},
   "outputs": [
    {
     "name": "stdout",
     "output_type": "stream",
     "text": [
      "Accuracy: 78.0%\n",
      "Precision: 78.42%\n",
      "Recall: 81.34%\n",
      "F1-score: 79.85%\n"
     ]
    }
   ],
   "source": [
    "precision = crosstab[1][1] / (crosstab[1][1] + crosstab[1][0])\n",
    "recall = crosstab[1][1] / (crosstab[1][1] + crosstab[0][1])\n",
    "F1_score = 2 * (precision * recall) / (precision + recall)\n",
    "\n",
    "print(\"Accuracy: %s%%\" % round(accuracy * 100, 2))\n",
    "print(\"Precision: %s%%\" % round(precision * 100, 2))\n",
    "print(\"Recall: %s%%\" % round(recall * 100, 2))\n",
    "print(\"F1-score: %s%%\" % round(F1_score * 100, 2))"
   ]
  },
  {
   "cell_type": "markdown",
   "metadata": {},
   "source": [
    "## Manual Test\n",
    "Now, let's have a manual test on this trained model.\n",
    "First, you need to input a movie review. Then, our trained model will predict whether this review is positive or negative. In this way, we can check the performance of the model.\n",
    "\n",
    "To perform a manual test, please run the following code block."
   ]
  },
  {
   "cell_type": "code",
   "execution_count": 19,
   "metadata": {},
   "outputs": [
    {
     "name": "stdout",
     "output_type": "stream",
     "text": [
      "Let's start our manual test.\n",
      "\n",
      "Please input your test review:\n",
      "I don't like it, beacuse it is a boring movie. It's kind of waste my time\n",
      "\n",
      "The model thinks this review is negative.\n",
      "\n",
      "Try again? y/n\n",
      "n\n"
     ]
    }
   ],
   "source": [
    "\"\"\"\n",
    "- Manual Test -\n",
    "\n",
    "Input a movie review. Then, our trained model will predict whether this review is positive or negative.\n",
    "\n",
    "Example：\n",
    "Input: \"I don't like it, beacuse it is a boring movie. It's kind of waste my time\"\n",
    "Expect: 0 (negative)\n",
    "\n",
    "\"\"\"\n",
    "\n",
    "manual_test = True\n",
    "count = 1\n",
    "print(\"Let's start our manual test.\\n\")\n",
    "time.sleep(0.3)\n",
    "while(manual_test):\n",
    "    \n",
    "    review = input(\"Please input your test review:\\n\")\n",
    "\n",
    "    # Tokenization\n",
    "    inputs = tokenizer(review, truncation=True, padding=True, return_tensors=\"pt\").to(device)\n",
    "    \n",
    "    # Model makes its prediction\n",
    "    outputs = model(**inputs)\n",
    "    prediction = predict(outputs)\n",
    "\n",
    "    # Check the performance\n",
    "    print(\"\\nThe model thinks this review is %s.\\n\" % (\"negative\" if int(prediction)==0 else \"positive\"))\n",
    "    \n",
    "    manual_test = input(\"Try again? y/n\\n\")==\"y\"\n",
    "    if manual_test:\n",
    "        count = count + 1\n",
    "        print(\"--------------------------------------- %s ---------------------------------------\" % count)"
   ]
  }
 ],
 "metadata": {
  "kernelspec": {
   "display_name": "Python 3",
   "language": "python",
   "name": "python3"
  }
 },
 "nbformat": 4,
 "nbformat_minor": 5
}
